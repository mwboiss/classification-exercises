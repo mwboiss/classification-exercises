{
 "cells": [
  {
   "cell_type": "code",
   "execution_count": 124,
   "id": "292462fd-1f61-43f4-9416-b81d59b3bb24",
   "metadata": {},
   "outputs": [],
   "source": [
    "import pandas as pd\n",
    "import numpy as np\n",
    "import matplotlib.pyplot as plt\n",
    "import seaborn as sns\n",
    "import prepare\n",
    "\n",
    "from sklearn.model_selection import train_test_split\n",
    "from sklearn.tree import DecisionTreeClassifier, plot_tree\n",
    "\n",
    "from sklearn.ensemble import RandomForestClassifier\n",
    "from sklearn.neighbors import KNeighborsClassifier\n",
    "from sklearn.linear_model import LogisticRegression\n",
    "\n",
    "from sklearn.metrics import classification_report\n",
    "from sklearn.metrics import confusion_matrix\n",
    "from sklearn.metrics import accuracy_score, precision_score, recall_score\n",
    "\n",
    "import warnings\n",
    "warnings.filterwarnings('ignore')\n",
    "\n",
    "titanic = pd.read_csv('titanic.csv')"
   ]
  },
  {
   "cell_type": "code",
   "execution_count": 125,
   "id": "bbdc8990-20d2-4c62-a736-4abe8483aaeb",
   "metadata": {},
   "outputs": [],
   "source": [
    "def prep_titanic(titanic):\n",
    "        \n",
    "    titanic = titanic.drop_duplicates()\n",
    "    \n",
    "    drop_columns = ['passenger_id','class','embarked','deck','age']\n",
    "    titanic = titanic.drop(columns=drop_columns)\n",
    "\n",
    "    titanic['embark_town'] = titanic.embark_town.fillna(value='Southampton')\n",
    "    \n",
    "    dummy_name = pd.get_dummies(titanic[['sex','embark_town']],drop_first=[True,True])\n",
    "    titanic = pd.concat([titanic,dummy_name],axis=1)\n",
    "    \n",
    "    titanic = titanic.drop(columns=['sex','embark_town'])\n",
    "    \n",
    "    return titanic"
   ]
  },
  {
   "cell_type": "code",
   "execution_count": 126,
   "id": "b2c579a0-0ffa-410d-8e29-f8ec2fe42a89",
   "metadata": {},
   "outputs": [
    {
     "data": {
      "text/html": [
       "<div>\n",
       "<style scoped>\n",
       "    .dataframe tbody tr th:only-of-type {\n",
       "        vertical-align: middle;\n",
       "    }\n",
       "\n",
       "    .dataframe tbody tr th {\n",
       "        vertical-align: top;\n",
       "    }\n",
       "\n",
       "    .dataframe thead th {\n",
       "        text-align: right;\n",
       "    }\n",
       "</style>\n",
       "<table border=\"1\" class=\"dataframe\">\n",
       "  <thead>\n",
       "    <tr style=\"text-align: right;\">\n",
       "      <th></th>\n",
       "      <th>survived</th>\n",
       "      <th>pclass</th>\n",
       "      <th>sibsp</th>\n",
       "      <th>parch</th>\n",
       "      <th>fare</th>\n",
       "      <th>alone</th>\n",
       "      <th>sex_male</th>\n",
       "      <th>embark_town_Queenstown</th>\n",
       "      <th>embark_town_Southampton</th>\n",
       "    </tr>\n",
       "  </thead>\n",
       "  <tbody>\n",
       "    <tr>\n",
       "      <th>0</th>\n",
       "      <td>0</td>\n",
       "      <td>3</td>\n",
       "      <td>1</td>\n",
       "      <td>0</td>\n",
       "      <td>7.2500</td>\n",
       "      <td>0</td>\n",
       "      <td>1</td>\n",
       "      <td>0</td>\n",
       "      <td>1</td>\n",
       "    </tr>\n",
       "    <tr>\n",
       "      <th>1</th>\n",
       "      <td>1</td>\n",
       "      <td>1</td>\n",
       "      <td>1</td>\n",
       "      <td>0</td>\n",
       "      <td>71.2833</td>\n",
       "      <td>0</td>\n",
       "      <td>0</td>\n",
       "      <td>0</td>\n",
       "      <td>0</td>\n",
       "    </tr>\n",
       "    <tr>\n",
       "      <th>2</th>\n",
       "      <td>1</td>\n",
       "      <td>3</td>\n",
       "      <td>0</td>\n",
       "      <td>0</td>\n",
       "      <td>7.9250</td>\n",
       "      <td>1</td>\n",
       "      <td>0</td>\n",
       "      <td>0</td>\n",
       "      <td>1</td>\n",
       "    </tr>\n",
       "    <tr>\n",
       "      <th>3</th>\n",
       "      <td>1</td>\n",
       "      <td>1</td>\n",
       "      <td>1</td>\n",
       "      <td>0</td>\n",
       "      <td>53.1000</td>\n",
       "      <td>0</td>\n",
       "      <td>0</td>\n",
       "      <td>0</td>\n",
       "      <td>1</td>\n",
       "    </tr>\n",
       "    <tr>\n",
       "      <th>4</th>\n",
       "      <td>0</td>\n",
       "      <td>3</td>\n",
       "      <td>0</td>\n",
       "      <td>0</td>\n",
       "      <td>8.0500</td>\n",
       "      <td>1</td>\n",
       "      <td>1</td>\n",
       "      <td>0</td>\n",
       "      <td>1</td>\n",
       "    </tr>\n",
       "  </tbody>\n",
       "</table>\n",
       "</div>"
      ],
      "text/plain": [
       "   survived  pclass  sibsp  parch     fare  alone  sex_male  \\\n",
       "0         0       3      1      0   7.2500      0         1   \n",
       "1         1       1      1      0  71.2833      0         0   \n",
       "2         1       3      0      0   7.9250      1         0   \n",
       "3         1       1      1      0  53.1000      0         0   \n",
       "4         0       3      0      0   8.0500      1         1   \n",
       "\n",
       "   embark_town_Queenstown  embark_town_Southampton  \n",
       "0                       0                        1  \n",
       "1                       0                        0  \n",
       "2                       0                        1  \n",
       "3                       0                        1  \n",
       "4                       0                        1  "
      ]
     },
     "execution_count": 126,
     "metadata": {},
     "output_type": "execute_result"
    }
   ],
   "source": [
    "titanic = prep_titanic(titanic)\n",
    "titanic.head()"
   ]
  },
  {
   "cell_type": "code",
   "execution_count": 127,
   "id": "5aca30aa-5c6e-47d6-b05e-caff947231bc",
   "metadata": {},
   "outputs": [],
   "source": [
    "train_validate, test = train_test_split(titanic, \n",
    "                                         test_size=0.2, \n",
    "                                        random_state=123, \n",
    "                                        stratify=titanic.survived)\n",
    "\n",
    "train, validate = train_test_split(train_validate, \n",
    "                                 test_size=0.3, \n",
    "                                   random_state=123, \n",
    "                                   stratify=train_validate.survived)\n",
    "\n",
    "x_train = train.drop(columns=['survived'])\n",
    "y_train = train.survived\n",
    "\n",
    "x_validate = validate.drop(columns=['survived'])\n",
    "y_validate = validate.survived\n",
    "\n",
    "x_test = test.drop(columns=['survived'])\n",
    "y_test = test.survived"
   ]
  },
  {
   "cell_type": "markdown",
   "id": "d5969e18-9324-4902-befb-050d8a28b9a7",
   "metadata": {},
   "source": [
    "**Decision Tree Exercises**"
   ]
  },
  {
   "cell_type": "markdown",
   "id": "a20c9a92-3f66-4a38-bc57-3310393503ca",
   "metadata": {},
   "source": [
    "- What is your baseline prediction?"
   ]
  },
  {
   "cell_type": "code",
   "execution_count": 128,
   "id": "1d4a298e-bd4b-471b-b334-e7de492b655e",
   "metadata": {},
   "outputs": [],
   "source": [
    "train.survived.value_counts()\n",
    "## Baseline prediction would be that they did not survive\n",
    "train['baseline_death'] = 0"
   ]
  },
  {
   "cell_type": "markdown",
   "id": "2567be26-545d-43cc-bcea-0b6938a8b0d4",
   "metadata": {},
   "source": [
    "- What is your baseline accuracy?"
   ]
  },
  {
   "cell_type": "code",
   "execution_count": 129,
   "id": "c112bb4d-2736-46e5-8bb5-662c70f0e471",
   "metadata": {},
   "outputs": [
    {
     "data": {
      "text/plain": [
       "0.6164658634538153"
      ]
     },
     "execution_count": 129,
     "metadata": {},
     "output_type": "execute_result"
    }
   ],
   "source": [
    "(train.baseline_death == train.survived).mean()"
   ]
  },
  {
   "cell_type": "markdown",
   "id": "bebd606a-b302-4c28-bde9-2f09a28e787d",
   "metadata": {},
   "source": [
    "Fit the decision tree classifier to your training sample and transform (i.e. make predictions on the training sample)"
   ]
  },
  {
   "cell_type": "code",
   "execution_count": 130,
   "id": "fa75bae9-cd19-4153-b3de-1605879f7484",
   "metadata": {},
   "outputs": [],
   "source": [
    "clf = DecisionTreeClassifier()"
   ]
  },
  {
   "cell_type": "code",
   "execution_count": 131,
   "id": "b5339f57-f49e-4104-bb76-65da8faa3dfc",
   "metadata": {},
   "outputs": [],
   "source": [
    "clf = clf.fit(x_train, y_train)"
   ]
  },
  {
   "cell_type": "code",
   "execution_count": 132,
   "id": "efad6530-e81a-448f-bf3a-ec83ef8fa5a1",
   "metadata": {},
   "outputs": [
    {
     "data": {
      "text/plain": [
       "array([0, 1, 0, 1, 1, 0, 0, 0, 0, 0, 0, 0, 1, 0, 0, 0, 0, 1, 0, 0, 1, 0,\n",
       "       1, 1, 0, 0, 1, 0, 0, 0, 0, 0, 0, 1, 1, 0, 0, 1, 0, 1, 0, 0, 0, 1,\n",
       "       0, 0, 0, 0, 1, 0, 0, 0, 1, 1, 0, 1, 0, 1, 0, 0, 0, 0, 0, 0, 0, 0,\n",
       "       0, 0, 1, 1, 0, 0, 1, 1, 0, 0, 0, 0, 0, 1, 0, 1, 0, 0, 0, 0, 1, 1,\n",
       "       1, 0, 0, 0, 1, 1, 0, 0, 1, 0, 0, 1, 0, 0, 1, 0, 0, 1, 0, 1, 0, 0,\n",
       "       1, 1, 0, 0, 0, 1, 0, 0, 1, 1, 0, 0, 0, 0, 1, 1, 1, 0, 1, 0, 1, 0,\n",
       "       0, 1, 0, 0, 0, 0, 0, 0, 1, 0, 0, 0, 1, 0, 1, 1, 1, 1, 0, 1, 1, 0,\n",
       "       0, 1, 0, 0, 1, 0, 0, 1, 0, 1, 0, 0, 0, 0, 0, 0, 0, 1, 1, 0, 0, 0,\n",
       "       1, 0, 0, 0, 0, 0, 0, 1, 0, 1, 0, 1, 0, 1, 0, 1, 0, 0, 1, 1, 0, 1,\n",
       "       0, 0, 0, 1, 1, 0, 0, 0, 0, 0, 0, 1, 0, 0, 0, 1, 1, 1, 0, 0, 1, 0,\n",
       "       0, 0, 0, 1, 0, 0, 0, 0, 0, 1, 0, 0, 0, 0, 0, 1, 1, 0, 0, 0, 0, 0,\n",
       "       1, 0, 1, 0, 1, 0, 1, 1, 0, 0, 0, 1, 0, 1, 0, 1, 1, 1, 0, 0, 1, 1,\n",
       "       0, 0, 0, 1, 0, 0, 0, 0, 0, 1, 0, 0, 0, 0, 0, 0, 0, 1, 1, 1, 0, 0,\n",
       "       1, 0, 0, 0, 0, 0, 0, 0, 0, 1, 0, 0, 0, 0, 0, 0, 0, 1, 0, 0, 1, 0,\n",
       "       0, 0, 0, 0, 0, 1, 0, 0, 0, 1, 1, 0, 0, 0, 1, 0, 0, 1, 1, 0, 0, 1,\n",
       "       0, 1, 1, 1, 1, 1, 0, 1, 0, 0, 0, 1, 1, 1, 0, 1, 0, 0, 0, 0, 1, 0,\n",
       "       0, 1, 1, 1, 1, 0, 0, 1, 0, 1, 1, 0, 0, 0, 0, 0, 0, 0, 0, 0, 1, 0,\n",
       "       1, 0, 1, 0, 1, 1, 1, 1, 1, 0, 0, 1, 0, 0, 0, 0, 0, 0, 0, 1, 1, 0,\n",
       "       1, 0, 0, 0, 0, 1, 0, 0, 0, 0, 0, 0, 0, 0, 0, 0, 0, 0, 1, 1, 1, 0,\n",
       "       1, 0, 1, 0, 0, 1, 0, 1, 0, 1, 0, 0, 0, 0, 0, 0, 1, 0, 0, 0, 1, 0,\n",
       "       0, 0, 0, 0, 0, 1, 0, 0, 1, 0, 1, 1, 0, 0, 1, 0, 0, 0, 0, 0, 0, 0,\n",
       "       1, 0, 0, 1, 1, 0, 1, 0, 1, 0, 0, 0, 0, 0, 1, 0, 0, 0, 1, 1, 1, 1,\n",
       "       0, 1, 0, 1, 0, 0, 1, 0, 1, 0, 0, 0, 0, 0])"
      ]
     },
     "execution_count": 132,
     "metadata": {},
     "output_type": "execute_result"
    }
   ],
   "source": [
    "y_pred = clf.predict(x_train)\n",
    "y_pred"
   ]
  },
  {
   "cell_type": "markdown",
   "id": "842dd1c0-67a0-4228-af71-b5f76fd2b0dc",
   "metadata": {},
   "source": [
    "Evaluate your in-sample results using the model score, confusion matrix, and classification report."
   ]
  },
  {
   "cell_type": "code",
   "execution_count": 133,
   "id": "580e6bb3-ab4e-4970-8f10-0d90a34d7a30",
   "metadata": {},
   "outputs": [
    {
     "data": {
      "text/plain": [
       "0.9457831325301205"
      ]
     },
     "execution_count": 133,
     "metadata": {},
     "output_type": "execute_result"
    }
   ],
   "source": [
    "score = clf.score(x_train,y_train)\n",
    "score"
   ]
  },
  {
   "cell_type": "code",
   "execution_count": 134,
   "id": "bb4f9d63-8c47-4cae-a72c-ef614b0992cb",
   "metadata": {},
   "outputs": [
    {
     "data": {
      "text/plain": [
       "array([[305,   2],\n",
       "       [ 25, 166]])"
      ]
     },
     "execution_count": 134,
     "metadata": {},
     "output_type": "execute_result"
    }
   ],
   "source": [
    "conf_mat = confusion_matrix(y_train,y_pred)\n",
    "conf_mat"
   ]
  },
  {
   "cell_type": "code",
   "execution_count": 135,
   "id": "d4d92fe2-cbbc-4ea3-81aa-1ad4cf51e375",
   "metadata": {},
   "outputs": [
    {
     "data": {
      "text/html": [
       "<div>\n",
       "<style scoped>\n",
       "    .dataframe tbody tr th:only-of-type {\n",
       "        vertical-align: middle;\n",
       "    }\n",
       "\n",
       "    .dataframe tbody tr th {\n",
       "        vertical-align: top;\n",
       "    }\n",
       "\n",
       "    .dataframe thead th {\n",
       "        text-align: right;\n",
       "    }\n",
       "</style>\n",
       "<table border=\"1\" class=\"dataframe\">\n",
       "  <thead>\n",
       "    <tr style=\"text-align: right;\">\n",
       "      <th></th>\n",
       "      <th>precision</th>\n",
       "      <th>recall</th>\n",
       "      <th>f1-score</th>\n",
       "      <th>support</th>\n",
       "    </tr>\n",
       "  </thead>\n",
       "  <tbody>\n",
       "    <tr>\n",
       "      <th>0</th>\n",
       "      <td>0.924242</td>\n",
       "      <td>0.993485</td>\n",
       "      <td>0.957614</td>\n",
       "      <td>307.000000</td>\n",
       "    </tr>\n",
       "    <tr>\n",
       "      <th>1</th>\n",
       "      <td>0.988095</td>\n",
       "      <td>0.869110</td>\n",
       "      <td>0.924791</td>\n",
       "      <td>191.000000</td>\n",
       "    </tr>\n",
       "    <tr>\n",
       "      <th>accuracy</th>\n",
       "      <td>0.945783</td>\n",
       "      <td>0.945783</td>\n",
       "      <td>0.945783</td>\n",
       "      <td>0.945783</td>\n",
       "    </tr>\n",
       "    <tr>\n",
       "      <th>macro avg</th>\n",
       "      <td>0.956169</td>\n",
       "      <td>0.931298</td>\n",
       "      <td>0.941202</td>\n",
       "      <td>498.000000</td>\n",
       "    </tr>\n",
       "    <tr>\n",
       "      <th>weighted avg</th>\n",
       "      <td>0.948732</td>\n",
       "      <td>0.945783</td>\n",
       "      <td>0.945025</td>\n",
       "      <td>498.000000</td>\n",
       "    </tr>\n",
       "  </tbody>\n",
       "</table>\n",
       "</div>"
      ],
      "text/plain": [
       "              precision    recall  f1-score     support\n",
       "0              0.924242  0.993485  0.957614  307.000000\n",
       "1              0.988095  0.869110  0.924791  191.000000\n",
       "accuracy       0.945783  0.945783  0.945783    0.945783\n",
       "macro avg      0.956169  0.931298  0.941202  498.000000\n",
       "weighted avg   0.948732  0.945783  0.945025  498.000000"
      ]
     },
     "execution_count": 135,
     "metadata": {},
     "output_type": "execute_result"
    }
   ],
   "source": [
    "class_rep = pd.DataFrame(classification_report(y_train,y_pred,output_dict=True)).T\n",
    "class_rep"
   ]
  },
  {
   "cell_type": "markdown",
   "id": "9c39ec3c-110e-48ce-8638-6a163858106a",
   "metadata": {},
   "source": [
    "Compute: Accuracy, true positive rate, false positive rate, true negative rate, false negative rate, precision, recall, f1-score, and support."
   ]
  },
  {
   "cell_type": "code",
   "execution_count": 136,
   "id": "ac59275b-a045-429d-9a48-bc69a88b9998",
   "metadata": {},
   "outputs": [
    {
     "data": {
      "text/plain": [
       "305"
      ]
     },
     "execution_count": 136,
     "metadata": {},
     "output_type": "execute_result"
    }
   ],
   "source": [
    "true_pos = conf_mat[0][0]\n",
    "true_pos"
   ]
  },
  {
   "cell_type": "code",
   "execution_count": 137,
   "id": "a09c4e49-ae24-4508-ad3c-f0aa2f32a9eb",
   "metadata": {},
   "outputs": [
    {
     "data": {
      "text/plain": [
       "2"
      ]
     },
     "execution_count": 137,
     "metadata": {},
     "output_type": "execute_result"
    }
   ],
   "source": [
    "false_pos = conf_mat[0][1]\n",
    "false_pos"
   ]
  },
  {
   "cell_type": "code",
   "execution_count": 138,
   "id": "30a9fe85-dd31-4514-88cd-4628e8e04362",
   "metadata": {},
   "outputs": [
    {
     "data": {
      "text/plain": [
       "166"
      ]
     },
     "execution_count": 138,
     "metadata": {},
     "output_type": "execute_result"
    }
   ],
   "source": [
    "true_neg = conf_mat[1][1]\n",
    "true_neg"
   ]
  },
  {
   "cell_type": "code",
   "execution_count": 139,
   "id": "44d76e3f-50a0-4a0d-a7b2-7052a34cb5fb",
   "metadata": {},
   "outputs": [
    {
     "data": {
      "text/plain": [
       "25"
      ]
     },
     "execution_count": 139,
     "metadata": {},
     "output_type": "execute_result"
    }
   ],
   "source": [
    "false_neg = conf_mat[1][0]\n",
    "false_neg"
   ]
  },
  {
   "cell_type": "code",
   "execution_count": 140,
   "id": "3ebdc47a-46cd-4430-9bab-c1c97276157b",
   "metadata": {},
   "outputs": [
    {
     "data": {
      "text/html": [
       "<div>\n",
       "<style scoped>\n",
       "    .dataframe tbody tr th:only-of-type {\n",
       "        vertical-align: middle;\n",
       "    }\n",
       "\n",
       "    .dataframe tbody tr th {\n",
       "        vertical-align: top;\n",
       "    }\n",
       "\n",
       "    .dataframe thead th {\n",
       "        text-align: right;\n",
       "    }\n",
       "</style>\n",
       "<table border=\"1\" class=\"dataframe\">\n",
       "  <thead>\n",
       "    <tr style=\"text-align: right;\">\n",
       "      <th></th>\n",
       "      <th>precision</th>\n",
       "      <th>recall</th>\n",
       "      <th>f1-score</th>\n",
       "      <th>support</th>\n",
       "    </tr>\n",
       "  </thead>\n",
       "  <tbody>\n",
       "    <tr>\n",
       "      <th>0</th>\n",
       "      <td>0.924242</td>\n",
       "      <td>0.993485</td>\n",
       "      <td>0.957614</td>\n",
       "      <td>307.000000</td>\n",
       "    </tr>\n",
       "    <tr>\n",
       "      <th>1</th>\n",
       "      <td>0.988095</td>\n",
       "      <td>0.869110</td>\n",
       "      <td>0.924791</td>\n",
       "      <td>191.000000</td>\n",
       "    </tr>\n",
       "    <tr>\n",
       "      <th>accuracy</th>\n",
       "      <td>0.945783</td>\n",
       "      <td>0.945783</td>\n",
       "      <td>0.945783</td>\n",
       "      <td>0.945783</td>\n",
       "    </tr>\n",
       "    <tr>\n",
       "      <th>macro avg</th>\n",
       "      <td>0.956169</td>\n",
       "      <td>0.931298</td>\n",
       "      <td>0.941202</td>\n",
       "      <td>498.000000</td>\n",
       "    </tr>\n",
       "    <tr>\n",
       "      <th>weighted avg</th>\n",
       "      <td>0.948732</td>\n",
       "      <td>0.945783</td>\n",
       "      <td>0.945025</td>\n",
       "      <td>498.000000</td>\n",
       "    </tr>\n",
       "  </tbody>\n",
       "</table>\n",
       "</div>"
      ],
      "text/plain": [
       "              precision    recall  f1-score     support\n",
       "0              0.924242  0.993485  0.957614  307.000000\n",
       "1              0.988095  0.869110  0.924791  191.000000\n",
       "accuracy       0.945783  0.945783  0.945783    0.945783\n",
       "macro avg      0.956169  0.931298  0.941202  498.000000\n",
       "weighted avg   0.948732  0.945783  0.945025  498.000000"
      ]
     },
     "execution_count": 140,
     "metadata": {},
     "output_type": "execute_result"
    }
   ],
   "source": [
    "class_rep"
   ]
  },
  {
   "cell_type": "markdown",
   "id": "549ea6bf-ab4c-460d-bf2e-7903d8651dc4",
   "metadata": {},
   "source": [
    "Run through steps 2-4 using a different max_depth value."
   ]
  },
  {
   "cell_type": "code",
   "execution_count": 141,
   "id": "1a063a19-dd8d-4775-942c-c04739c4bc8b",
   "metadata": {},
   "outputs": [],
   "source": [
    "clf2 = DecisionTreeClassifier(max_depth=3)\n",
    "clf2 = clf2.fit(x_train,y_train)\n",
    "y_pred2 = clf2.predict(x_train)"
   ]
  },
  {
   "cell_type": "code",
   "execution_count": 142,
   "id": "4b347d3b-c85d-47ee-ba35-cfe5dabc8306",
   "metadata": {},
   "outputs": [
    {
     "data": {
      "text/plain": [
       "array([[276,  31],\n",
       "       [ 57, 134]])"
      ]
     },
     "execution_count": 142,
     "metadata": {},
     "output_type": "execute_result"
    }
   ],
   "source": [
    "conf_mat2 = confusion_matrix(y_train,y_pred2)\n",
    "conf_mat2"
   ]
  },
  {
   "cell_type": "code",
   "execution_count": 143,
   "id": "3364bfae-c748-42a5-a3d1-a2d916b2ca13",
   "metadata": {},
   "outputs": [
    {
     "data": {
      "text/html": [
       "<div>\n",
       "<style scoped>\n",
       "    .dataframe tbody tr th:only-of-type {\n",
       "        vertical-align: middle;\n",
       "    }\n",
       "\n",
       "    .dataframe tbody tr th {\n",
       "        vertical-align: top;\n",
       "    }\n",
       "\n",
       "    .dataframe thead th {\n",
       "        text-align: right;\n",
       "    }\n",
       "</style>\n",
       "<table border=\"1\" class=\"dataframe\">\n",
       "  <thead>\n",
       "    <tr style=\"text-align: right;\">\n",
       "      <th></th>\n",
       "      <th>precision</th>\n",
       "      <th>recall</th>\n",
       "      <th>f1-score</th>\n",
       "      <th>support</th>\n",
       "    </tr>\n",
       "  </thead>\n",
       "  <tbody>\n",
       "    <tr>\n",
       "      <th>0</th>\n",
       "      <td>0.828829</td>\n",
       "      <td>0.899023</td>\n",
       "      <td>0.862500</td>\n",
       "      <td>307.000000</td>\n",
       "    </tr>\n",
       "    <tr>\n",
       "      <th>1</th>\n",
       "      <td>0.812121</td>\n",
       "      <td>0.701571</td>\n",
       "      <td>0.752809</td>\n",
       "      <td>191.000000</td>\n",
       "    </tr>\n",
       "    <tr>\n",
       "      <th>accuracy</th>\n",
       "      <td>0.823293</td>\n",
       "      <td>0.823293</td>\n",
       "      <td>0.823293</td>\n",
       "      <td>0.823293</td>\n",
       "    </tr>\n",
       "    <tr>\n",
       "      <th>macro avg</th>\n",
       "      <td>0.820475</td>\n",
       "      <td>0.800297</td>\n",
       "      <td>0.807654</td>\n",
       "      <td>498.000000</td>\n",
       "    </tr>\n",
       "    <tr>\n",
       "      <th>weighted avg</th>\n",
       "      <td>0.822421</td>\n",
       "      <td>0.823293</td>\n",
       "      <td>0.820430</td>\n",
       "      <td>498.000000</td>\n",
       "    </tr>\n",
       "  </tbody>\n",
       "</table>\n",
       "</div>"
      ],
      "text/plain": [
       "              precision    recall  f1-score     support\n",
       "0              0.828829  0.899023  0.862500  307.000000\n",
       "1              0.812121  0.701571  0.752809  191.000000\n",
       "accuracy       0.823293  0.823293  0.823293    0.823293\n",
       "macro avg      0.820475  0.800297  0.807654  498.000000\n",
       "weighted avg   0.822421  0.823293  0.820430  498.000000"
      ]
     },
     "execution_count": 143,
     "metadata": {},
     "output_type": "execute_result"
    }
   ],
   "source": [
    "class_rep2 = pd.DataFrame(classification_report(y_train,y_pred2,output_dict=True)).T\n",
    "class_rep2"
   ]
  },
  {
   "cell_type": "markdown",
   "id": "f34406f4-cd9b-44a1-b780-10be3556f794",
   "metadata": {},
   "source": [
    "Which model performs better on your in-sample data?"
   ]
  },
  {
   "cell_type": "markdown",
   "id": "28f7faa3-21de-4bab-9417-8180d977384a",
   "metadata": {},
   "source": [
    "- Model 1 performed better on the in-sample data."
   ]
  },
  {
   "cell_type": "markdown",
   "id": "9a4abc97-1c8f-4475-8928-e15b15f71502",
   "metadata": {},
   "source": [
    "Which model performs best on your out-of-sample data, the validate set?"
   ]
  },
  {
   "cell_type": "code",
   "execution_count": 144,
   "id": "94356b15-553b-4a2b-9002-d3182446992b",
   "metadata": {},
   "outputs": [],
   "source": [
    "y_pred_val = clf.predict(x_validate)\n",
    "y_pred2_val = clf2.predict(x_validate)"
   ]
  },
  {
   "cell_type": "code",
   "execution_count": 145,
   "id": "5dabfc00-b68d-459e-8c75-feff6fbba811",
   "metadata": {},
   "outputs": [
    {
     "data": {
      "text/html": [
       "<div>\n",
       "<style scoped>\n",
       "    .dataframe tbody tr th:only-of-type {\n",
       "        vertical-align: middle;\n",
       "    }\n",
       "\n",
       "    .dataframe tbody tr th {\n",
       "        vertical-align: top;\n",
       "    }\n",
       "\n",
       "    .dataframe thead th {\n",
       "        text-align: right;\n",
       "    }\n",
       "</style>\n",
       "<table border=\"1\" class=\"dataframe\">\n",
       "  <thead>\n",
       "    <tr style=\"text-align: right;\">\n",
       "      <th></th>\n",
       "      <th>precision</th>\n",
       "      <th>recall</th>\n",
       "      <th>f1-score</th>\n",
       "      <th>support</th>\n",
       "    </tr>\n",
       "  </thead>\n",
       "  <tbody>\n",
       "    <tr>\n",
       "      <th>0</th>\n",
       "      <td>0.784173</td>\n",
       "      <td>0.825758</td>\n",
       "      <td>0.804428</td>\n",
       "      <td>132.000000</td>\n",
       "    </tr>\n",
       "    <tr>\n",
       "      <th>1</th>\n",
       "      <td>0.693333</td>\n",
       "      <td>0.634146</td>\n",
       "      <td>0.662420</td>\n",
       "      <td>82.000000</td>\n",
       "    </tr>\n",
       "    <tr>\n",
       "      <th>accuracy</th>\n",
       "      <td>0.752336</td>\n",
       "      <td>0.752336</td>\n",
       "      <td>0.752336</td>\n",
       "      <td>0.752336</td>\n",
       "    </tr>\n",
       "    <tr>\n",
       "      <th>macro avg</th>\n",
       "      <td>0.738753</td>\n",
       "      <td>0.729952</td>\n",
       "      <td>0.733424</td>\n",
       "      <td>214.000000</td>\n",
       "    </tr>\n",
       "    <tr>\n",
       "      <th>weighted avg</th>\n",
       "      <td>0.749365</td>\n",
       "      <td>0.752336</td>\n",
       "      <td>0.750014</td>\n",
       "      <td>214.000000</td>\n",
       "    </tr>\n",
       "  </tbody>\n",
       "</table>\n",
       "</div>"
      ],
      "text/plain": [
       "              precision    recall  f1-score     support\n",
       "0              0.784173  0.825758  0.804428  132.000000\n",
       "1              0.693333  0.634146  0.662420   82.000000\n",
       "accuracy       0.752336  0.752336  0.752336    0.752336\n",
       "macro avg      0.738753  0.729952  0.733424  214.000000\n",
       "weighted avg   0.749365  0.752336  0.750014  214.000000"
      ]
     },
     "execution_count": 145,
     "metadata": {},
     "output_type": "execute_result"
    }
   ],
   "source": [
    "class_rep_val = pd.DataFrame(classification_report(y_validate,y_pred_val,output_dict=True)).T\n",
    "class_rep_val"
   ]
  },
  {
   "cell_type": "code",
   "execution_count": 146,
   "id": "fe6feea4-6cd4-4b36-8476-1a7975750320",
   "metadata": {},
   "outputs": [
    {
     "data": {
      "text/plain": [
       "array([[109,  23],\n",
       "       [ 30,  52]])"
      ]
     },
     "execution_count": 146,
     "metadata": {},
     "output_type": "execute_result"
    }
   ],
   "source": [
    "conf_mat_val = confusion_matrix(y_validate,y_pred_val)\n",
    "conf_mat_val"
   ]
  },
  {
   "cell_type": "code",
   "execution_count": 147,
   "id": "8affbaf5-9434-4000-b493-98873f97dae9",
   "metadata": {},
   "outputs": [
    {
     "data": {
      "text/html": [
       "<div>\n",
       "<style scoped>\n",
       "    .dataframe tbody tr th:only-of-type {\n",
       "        vertical-align: middle;\n",
       "    }\n",
       "\n",
       "    .dataframe tbody tr th {\n",
       "        vertical-align: top;\n",
       "    }\n",
       "\n",
       "    .dataframe thead th {\n",
       "        text-align: right;\n",
       "    }\n",
       "</style>\n",
       "<table border=\"1\" class=\"dataframe\">\n",
       "  <thead>\n",
       "    <tr style=\"text-align: right;\">\n",
       "      <th></th>\n",
       "      <th>precision</th>\n",
       "      <th>recall</th>\n",
       "      <th>f1-score</th>\n",
       "      <th>support</th>\n",
       "    </tr>\n",
       "  </thead>\n",
       "  <tbody>\n",
       "    <tr>\n",
       "      <th>0</th>\n",
       "      <td>0.798611</td>\n",
       "      <td>0.871212</td>\n",
       "      <td>0.833333</td>\n",
       "      <td>132.000000</td>\n",
       "    </tr>\n",
       "    <tr>\n",
       "      <th>1</th>\n",
       "      <td>0.757143</td>\n",
       "      <td>0.646341</td>\n",
       "      <td>0.697368</td>\n",
       "      <td>82.000000</td>\n",
       "    </tr>\n",
       "    <tr>\n",
       "      <th>accuracy</th>\n",
       "      <td>0.785047</td>\n",
       "      <td>0.785047</td>\n",
       "      <td>0.785047</td>\n",
       "      <td>0.785047</td>\n",
       "    </tr>\n",
       "    <tr>\n",
       "      <th>macro avg</th>\n",
       "      <td>0.777877</td>\n",
       "      <td>0.758777</td>\n",
       "      <td>0.765351</td>\n",
       "      <td>214.000000</td>\n",
       "    </tr>\n",
       "    <tr>\n",
       "      <th>weighted avg</th>\n",
       "      <td>0.782721</td>\n",
       "      <td>0.785047</td>\n",
       "      <td>0.781235</td>\n",
       "      <td>214.000000</td>\n",
       "    </tr>\n",
       "  </tbody>\n",
       "</table>\n",
       "</div>"
      ],
      "text/plain": [
       "              precision    recall  f1-score     support\n",
       "0              0.798611  0.871212  0.833333  132.000000\n",
       "1              0.757143  0.646341  0.697368   82.000000\n",
       "accuracy       0.785047  0.785047  0.785047    0.785047\n",
       "macro avg      0.777877  0.758777  0.765351  214.000000\n",
       "weighted avg   0.782721  0.785047  0.781235  214.000000"
      ]
     },
     "execution_count": 147,
     "metadata": {},
     "output_type": "execute_result"
    }
   ],
   "source": [
    "class_rep2_val = pd.DataFrame(classification_report(y_validate,y_pred2_val,output_dict=True)).T\n",
    "class_rep2_val"
   ]
  },
  {
   "cell_type": "code",
   "execution_count": 148,
   "id": "e993a80f-eda1-4dc3-9d1d-d44447fa6b92",
   "metadata": {},
   "outputs": [
    {
     "data": {
      "text/plain": [
       "array([[115,  17],\n",
       "       [ 29,  53]])"
      ]
     },
     "execution_count": 148,
     "metadata": {},
     "output_type": "execute_result"
    }
   ],
   "source": [
    "conf_mat2_val = confusion_matrix(y_validate,y_pred2_val)\n",
    "conf_mat2_val"
   ]
  },
  {
   "cell_type": "markdown",
   "id": "f6a9cc05-c05e-4f88-b145-4a0b792c6f35",
   "metadata": {},
   "source": [
    "- Model 2 seemd to perform slightly better on the out-of-sample data."
   ]
  },
  {
   "cell_type": "markdown",
   "id": "b101deaf-fb13-4a0c-a85c-54c741eed9e2",
   "metadata": {},
   "source": [
    "Work through these same exercises using the Telco dataset.\n",
    "Experiment with this model on other datasets with a higher number of output classes."
   ]
  },
  {
   "cell_type": "markdown",
   "id": "e401645e-5069-49e1-bac7-22e838bfe6e2",
   "metadata": {},
   "source": [
    "**Random Forest Exercises (Titanic)**\n",
    "\n",
    "Fit the Random Forest classifier to your training sample and transform (i.e. make predictions on the training sample) setting the random_state accordingly and setting min_samples_leaf = 1 and max_depth = 10."
   ]
  },
  {
   "cell_type": "code",
   "execution_count": 149,
   "id": "ca271bba-fd51-4b7c-9278-96aafb67fc1c",
   "metadata": {},
   "outputs": [],
   "source": [
    "rf = RandomForestClassifier(min_samples_leaf=1,max_depth=10,random_state=123)\n",
    "rf.fit(x_train, y_train)\n",
    "y_pred = rf.predict(x_train)"
   ]
  },
  {
   "cell_type": "markdown",
   "id": "5413879e-1c98-4bb5-b147-428834a16128",
   "metadata": {},
   "source": [
    "Evaluate your results using the model score, confusion matrix, and classification report."
   ]
  },
  {
   "cell_type": "code",
   "execution_count": 150,
   "id": "652c2a10-b240-4b65-b3a0-6e68af77a721",
   "metadata": {},
   "outputs": [
    {
     "name": "stdout",
     "output_type": "stream",
     "text": [
      "[0.10002143 0.06879504 0.05292745 0.3838233  0.02319394 0.32803056\n",
      " 0.01522288 0.02798539]\n",
      "Index(['pclass', 'sibsp', 'parch', 'fare', 'alone', 'sex_male',\n",
      "       'embark_town_Queenstown', 'embark_town_Southampton'],\n",
      "      dtype='object')\n"
     ]
    }
   ],
   "source": [
    "print(rf.feature_importances_)\n",
    "print(x_train.columns)"
   ]
  },
  {
   "cell_type": "code",
   "execution_count": 151,
   "id": "41671d5e-d192-4cd0-bc98-f64a799d8a77",
   "metadata": {},
   "outputs": [
    {
     "data": {
      "text/plain": [
       "0.9437751004016064"
      ]
     },
     "execution_count": 151,
     "metadata": {},
     "output_type": "execute_result"
    }
   ],
   "source": [
    "rf.score(x_train,y_train)"
   ]
  },
  {
   "cell_type": "code",
   "execution_count": 152,
   "id": "76b8988a-a4b0-411d-be09-c56f05b570fc",
   "metadata": {},
   "outputs": [
    {
     "name": "stdout",
     "output_type": "stream",
     "text": [
      "[[301   6]\n",
      " [ 22 169]]\n"
     ]
    }
   ],
   "source": [
    "print(confusion_matrix(y_train,y_pred))"
   ]
  },
  {
   "cell_type": "code",
   "execution_count": 153,
   "id": "45cc3027-aefa-4d7f-8ef3-6b63250ab721",
   "metadata": {},
   "outputs": [
    {
     "data": {
      "text/html": [
       "<div>\n",
       "<style scoped>\n",
       "    .dataframe tbody tr th:only-of-type {\n",
       "        vertical-align: middle;\n",
       "    }\n",
       "\n",
       "    .dataframe tbody tr th {\n",
       "        vertical-align: top;\n",
       "    }\n",
       "\n",
       "    .dataframe thead th {\n",
       "        text-align: right;\n",
       "    }\n",
       "</style>\n",
       "<table border=\"1\" class=\"dataframe\">\n",
       "  <thead>\n",
       "    <tr style=\"text-align: right;\">\n",
       "      <th></th>\n",
       "      <th>precision</th>\n",
       "      <th>recall</th>\n",
       "      <th>f1-score</th>\n",
       "      <th>support</th>\n",
       "    </tr>\n",
       "  </thead>\n",
       "  <tbody>\n",
       "    <tr>\n",
       "      <th>0</th>\n",
       "      <td>0.931889</td>\n",
       "      <td>0.980456</td>\n",
       "      <td>0.955556</td>\n",
       "      <td>307.000000</td>\n",
       "    </tr>\n",
       "    <tr>\n",
       "      <th>1</th>\n",
       "      <td>0.965714</td>\n",
       "      <td>0.884817</td>\n",
       "      <td>0.923497</td>\n",
       "      <td>191.000000</td>\n",
       "    </tr>\n",
       "    <tr>\n",
       "      <th>accuracy</th>\n",
       "      <td>0.943775</td>\n",
       "      <td>0.943775</td>\n",
       "      <td>0.943775</td>\n",
       "      <td>0.943775</td>\n",
       "    </tr>\n",
       "    <tr>\n",
       "      <th>macro avg</th>\n",
       "      <td>0.948801</td>\n",
       "      <td>0.932636</td>\n",
       "      <td>0.939526</td>\n",
       "      <td>498.000000</td>\n",
       "    </tr>\n",
       "    <tr>\n",
       "      <th>weighted avg</th>\n",
       "      <td>0.944862</td>\n",
       "      <td>0.943775</td>\n",
       "      <td>0.943260</td>\n",
       "      <td>498.000000</td>\n",
       "    </tr>\n",
       "  </tbody>\n",
       "</table>\n",
       "</div>"
      ],
      "text/plain": [
       "              precision    recall  f1-score     support\n",
       "0              0.931889  0.980456  0.955556  307.000000\n",
       "1              0.965714  0.884817  0.923497  191.000000\n",
       "accuracy       0.943775  0.943775  0.943775    0.943775\n",
       "macro avg      0.948801  0.932636  0.939526  498.000000\n",
       "weighted avg   0.944862  0.943775  0.943260  498.000000"
      ]
     },
     "execution_count": 153,
     "metadata": {},
     "output_type": "execute_result"
    }
   ],
   "source": [
    "pd.DataFrame(classification_report(y_train,y_pred, output_dict= True)).T"
   ]
  },
  {
   "cell_type": "markdown",
   "id": "28b2817a-57d4-4240-a978-ead70b405bbe",
   "metadata": {},
   "source": [
    "Print and clearly label the following: \n",
    "- Accuracy \n",
    "- true positive rate \n",
    "- false positive rate\n",
    "- true negative rate\n",
    "- false negative rate\n",
    "- precision, recall\n",
    "- f1-score\n",
    "- support."
   ]
  },
  {
   "cell_type": "code",
   "execution_count": 154,
   "id": "786d32f0-c1df-43fa-aae1-a847c65f9188",
   "metadata": {},
   "outputs": [
    {
     "name": "stdout",
     "output_type": "stream",
     "text": [
      "Accuracy: 0.94\n",
      "true positive rate: 301/307 = 0.98\n",
      "false positive rate: 6/307 = 0.02\n",
      "true negative rate: 169/191 = 0.88\n",
      "false negative rate: 22/191 = 0.12\n",
      "precision: 0.95\n",
      "recall: 0.93\n",
      "f1-score: 0.94\n",
      "support: 0: 307, 1:191\n"
     ]
    }
   ],
   "source": [
    "print(f'\\\n",
    "Accuracy: 0.94\\\n",
    "\\ntrue positive rate: 301/307 = 0.98\\\n",
    "\\nfalse positive rate: 6/307 = 0.02\\\n",
    "\\ntrue negative rate: 169/191 = 0.88\\\n",
    "\\nfalse negative rate: 22/191 = 0.12\\\n",
    "\\nprecision: 0.95\\\n",
    "\\nrecall: 0.93\\\n",
    "\\nf1-score: 0.94\\\n",
    "\\nsupport: 0: 307, 1:191\\\n",
    "')"
   ]
  },
  {
   "cell_type": "markdown",
   "id": "60ddb3e5-3593-4052-b601-c01de874ffa4",
   "metadata": {},
   "source": [
    "Run through steps increasing your min_samples_leaf and decreasing your max_depth."
   ]
  },
  {
   "cell_type": "code",
   "execution_count": 155,
   "id": "7f7184ea-356d-4b45-81ff-4dc5c7cd36b4",
   "metadata": {},
   "outputs": [],
   "source": [
    "rf = RandomForestClassifier(min_samples_leaf=3,max_depth=5,random_state=123)\n",
    "rf.fit(x_train, y_train)\n",
    "y_pred = rf.predict(x_train)"
   ]
  },
  {
   "cell_type": "code",
   "execution_count": 156,
   "id": "5f00ea12-cd36-408a-8b00-58bf063e6120",
   "metadata": {},
   "outputs": [
    {
     "name": "stdout",
     "output_type": "stream",
     "text": [
      "Accuracy: 0.837\n",
      "true positive rate: 0.665\n",
      "false positive rate: 0.0554\n",
      "true negative rate: 0.945\n",
      "false negative rate: 0.335\n",
      "              precision    recall  f1-score     support\n",
      "0              0.819209  0.944625  0.877458  307.000000\n",
      "1              0.881944  0.664921  0.758209  191.000000\n",
      "accuracy       0.837349  0.837349  0.837349    0.837349\n",
      "macro avg      0.850577  0.804773  0.817834  498.000000\n",
      "weighted avg   0.843270  0.837349  0.831722  498.000000 \n",
      "\n"
     ]
    }
   ],
   "source": [
    "conf = confusion_matrix(y_train,y_pred)\n",
    "print(f'\\\n",
    "Accuracy: {rf.score(x_train, y_train):.3}\\\n",
    "\\ntrue positive rate: {conf[1][1] / conf[1].sum():.3}\\\n",
    "\\nfalse positive rate: {conf[0][1] / conf[0].sum():.3}\\\n",
    "\\ntrue negative rate: {conf[0][0] / conf[0].sum():.3}\\\n",
    "\\nfalse negative rate: {conf[1][0] / conf[1].sum():.3}\\\n",
    "')\n",
    "print(pd.DataFrame(classification_report(y_train,y_pred, output_dict= True)).T,f'\\n')"
   ]
  },
  {
   "cell_type": "markdown",
   "id": "fa0d181a-65ae-42b7-89ff-9809b0ade222",
   "metadata": {},
   "source": [
    "- What are the differences in the evaluation metrics? \n",
    "- Which performs better on your in-sample data?\n",
    "- Why?"
   ]
  },
  {
   "cell_type": "markdown",
   "id": "5bdb1436-2e7f-4499-b885-0854ecb6210c",
   "metadata": {},
   "source": [
    "After making a few models, which one has the best performance (or closest metrics) on both train and validate?"
   ]
  },
  {
   "cell_type": "markdown",
   "id": "300384bd-286f-424b-868a-9fbf48d5adbd",
   "metadata": {},
   "source": [
    "**KNN Exercises (Titanic)**\n",
    "\n",
    "Fit a K-Nearest Neighbors classifier to your training sample and transform (i.e. make predictions on the training sample)"
   ]
  },
  {
   "cell_type": "code",
   "execution_count": 157,
   "id": "1940b8e0-de0d-4a19-aaa4-890b60d8a12e",
   "metadata": {},
   "outputs": [],
   "source": [
    "knn = KNeighborsClassifier(n_neighbors=5, weights='uniform')\n",
    "knn.fit(x_train,y_train)\n",
    "y_pred = knn.predict(x_train)\n",
    "y_pred_proba = knn.predict_proba(x_train)"
   ]
  },
  {
   "cell_type": "markdown",
   "id": "ef22dd4c-ecdc-4fd5-9301-505240fa90f1",
   "metadata": {},
   "source": [
    "Evaluate your results using the model score, confusion matrix, and classification report."
   ]
  },
  {
   "cell_type": "code",
   "execution_count": 158,
   "id": "5d8b54a8-164c-4811-9476-c0502eeb23a7",
   "metadata": {},
   "outputs": [
    {
     "data": {
      "text/plain": [
       "0.8072289156626506"
      ]
     },
     "execution_count": 158,
     "metadata": {},
     "output_type": "execute_result"
    }
   ],
   "source": [
    "knn.score(x_train, y_train)"
   ]
  },
  {
   "cell_type": "code",
   "execution_count": 159,
   "id": "f3b06b88-dba5-4e30-93db-7a0b91ef95be",
   "metadata": {},
   "outputs": [
    {
     "data": {
      "text/plain": [
       "array([[265,  42],\n",
       "       [ 54, 137]])"
      ]
     },
     "execution_count": 159,
     "metadata": {},
     "output_type": "execute_result"
    }
   ],
   "source": [
    "confusion_matrix(y_train, y_pred)"
   ]
  },
  {
   "cell_type": "code",
   "execution_count": 160,
   "id": "4830f611-0806-4737-8810-5a2e2c125d75",
   "metadata": {},
   "outputs": [
    {
     "data": {
      "text/html": [
       "<div>\n",
       "<style scoped>\n",
       "    .dataframe tbody tr th:only-of-type {\n",
       "        vertical-align: middle;\n",
       "    }\n",
       "\n",
       "    .dataframe tbody tr th {\n",
       "        vertical-align: top;\n",
       "    }\n",
       "\n",
       "    .dataframe thead th {\n",
       "        text-align: right;\n",
       "    }\n",
       "</style>\n",
       "<table border=\"1\" class=\"dataframe\">\n",
       "  <thead>\n",
       "    <tr style=\"text-align: right;\">\n",
       "      <th></th>\n",
       "      <th>precision</th>\n",
       "      <th>recall</th>\n",
       "      <th>f1-score</th>\n",
       "      <th>support</th>\n",
       "    </tr>\n",
       "  </thead>\n",
       "  <tbody>\n",
       "    <tr>\n",
       "      <th>0</th>\n",
       "      <td>0.830721</td>\n",
       "      <td>0.863192</td>\n",
       "      <td>0.846645</td>\n",
       "      <td>307.000000</td>\n",
       "    </tr>\n",
       "    <tr>\n",
       "      <th>1</th>\n",
       "      <td>0.765363</td>\n",
       "      <td>0.717277</td>\n",
       "      <td>0.740541</td>\n",
       "      <td>191.000000</td>\n",
       "    </tr>\n",
       "    <tr>\n",
       "      <th>accuracy</th>\n",
       "      <td>0.807229</td>\n",
       "      <td>0.807229</td>\n",
       "      <td>0.807229</td>\n",
       "      <td>0.807229</td>\n",
       "    </tr>\n",
       "    <tr>\n",
       "      <th>macro avg</th>\n",
       "      <td>0.798042</td>\n",
       "      <td>0.790235</td>\n",
       "      <td>0.793593</td>\n",
       "      <td>498.000000</td>\n",
       "    </tr>\n",
       "    <tr>\n",
       "      <th>weighted avg</th>\n",
       "      <td>0.805654</td>\n",
       "      <td>0.807229</td>\n",
       "      <td>0.805951</td>\n",
       "      <td>498.000000</td>\n",
       "    </tr>\n",
       "  </tbody>\n",
       "</table>\n",
       "</div>"
      ],
      "text/plain": [
       "              precision    recall  f1-score     support\n",
       "0              0.830721  0.863192  0.846645  307.000000\n",
       "1              0.765363  0.717277  0.740541  191.000000\n",
       "accuracy       0.807229  0.807229  0.807229    0.807229\n",
       "macro avg      0.798042  0.790235  0.793593  498.000000\n",
       "weighted avg   0.805654  0.807229  0.805951  498.000000"
      ]
     },
     "execution_count": 160,
     "metadata": {},
     "output_type": "execute_result"
    }
   ],
   "source": [
    "pd.DataFrame(classification_report(y_train, y_pred, output_dict=True)).T"
   ]
  },
  {
   "cell_type": "markdown",
   "id": "3f0d6b32-e291-4743-8461-174a035f304a",
   "metadata": {},
   "source": [
    "Print and clearly label the following: \n",
    "- Accuracy\n",
    "- true positive rate\n",
    "- false positive rate\n",
    "- true negative rate\n",
    "- false negative rate\n",
    "- precision, recall\n",
    "- f1-score\n",
    "- support"
   ]
  },
  {
   "cell_type": "code",
   "execution_count": 161,
   "id": "4f2d3545-4301-4cf7-96f3-7ecfbaf805b6",
   "metadata": {},
   "outputs": [
    {
     "name": "stdout",
     "output_type": "stream",
     "text": [
      "   Accuracy: 0.807\n",
      " true positive rate: 0.717\n",
      " false positive rate: 0.137\n",
      " true negative rate: 0.863\n",
      " false negative rate: 0.283\n",
      "              precision    recall  f1-score     support\n",
      "0              0.830721  0.863192  0.846645  307.000000\n",
      "1              0.765363  0.717277  0.740541  191.000000\n",
      "accuracy       0.807229  0.807229  0.807229    0.807229\n",
      "macro avg      0.798042  0.790235  0.793593  498.000000\n",
      "weighted avg   0.805654  0.807229  0.805951  498.000000 \n",
      "\n"
     ]
    }
   ],
   "source": [
    "conf = confusion_matrix(y_train,y_pred)\n",
    "print(f'\\\n",
    "   Accuracy: {knn.score(x_train, y_train):.3}\\\n",
    "\\n true positive rate: {conf[1][1] / conf[1].sum():.3}\\\n",
    "\\n false positive rate: {conf[0][1] / conf[0].sum():.3}\\\n",
    "\\n true negative rate: {conf[0][0] / conf[0].sum():.3}\\\n",
    "\\n false negative rate: {conf[1][0] / conf[1].sum():.3}')\n",
    "print(pd.DataFrame(classification_report(y_train,y_pred, output_dict= True)).T,f'\\n')"
   ]
  },
  {
   "cell_type": "markdown",
   "id": "d0815e3e-e56a-43d9-b1d5-466f1069cfc2",
   "metadata": {},
   "source": [
    "Run through steps 2-4 setting k to 10"
   ]
  },
  {
   "cell_type": "code",
   "execution_count": 162,
   "id": "63c525a3-cfb2-4a06-af7c-6c05d87aeb74",
   "metadata": {},
   "outputs": [],
   "source": [
    "knn = KNeighborsClassifier(n_neighbors=10, weights='uniform')\n",
    "knn.fit(x_train,y_train)\n",
    "y_pred = knn.predict(x_train)\n",
    "y_pred_proba = knn.predict_proba(x_train)"
   ]
  },
  {
   "cell_type": "code",
   "execution_count": 163,
   "id": "ae3a9179-23ea-4c54-886b-8efd789b79ce",
   "metadata": {},
   "outputs": [
    {
     "name": "stdout",
     "output_type": "stream",
     "text": [
      "Accuracy: 0.783\n",
      "true positive rate: 0.644\n",
      "false positive rate: 0.13\n",
      "true negative rate: 0.87\n",
      "false negative rate: 0.356\n",
      "              precision    recall  f1-score     support\n",
      "0              0.797015  0.869707  0.831776  307.000000\n",
      "1              0.754601  0.643979  0.694915  191.000000\n",
      "accuracy       0.783133  0.783133  0.783133    0.783133\n",
      "macro avg      0.775808  0.756843  0.763345  498.000000\n",
      "weighted avg   0.780748  0.783133  0.779285  498.000000 \n",
      "\n"
     ]
    }
   ],
   "source": [
    "conf = confusion_matrix(y_train,y_pred)\n",
    "print(f'\\\n",
    "Accuracy: {knn.score(x_train, y_train):.3}\\\n",
    "\\ntrue positive rate: {conf[1][1] / conf[1].sum():.3}\\\n",
    "\\nfalse positive rate: {conf[0][1] / conf[0].sum():.3}\\\n",
    "\\ntrue negative rate: {conf[0][0] / conf[0].sum():.3}\\\n",
    "\\nfalse negative rate: {conf[1][0] / conf[1].sum():.3}\\\n",
    "')\n",
    "print(pd.DataFrame(classification_report(y_train,y_pred, output_dict= True)).T,f'\\n')"
   ]
  },
  {
   "cell_type": "markdown",
   "id": "3aa7f7bc-8143-4951-9d9a-ddfff16660b6",
   "metadata": {},
   "source": [
    "Run through setps 2-4 setting k to 20"
   ]
  },
  {
   "cell_type": "code",
   "execution_count": 164,
   "id": "123816b2-745b-4fab-bf60-052ca9777f9f",
   "metadata": {},
   "outputs": [],
   "source": [
    "knn = KNeighborsClassifier(n_neighbors=20, weights='uniform')\n",
    "knn.fit(x_train,y_train)\n",
    "y_pred = knn.predict(x_train)\n",
    "y_pred_proba = knn.predict_proba(x_train)"
   ]
  },
  {
   "cell_type": "code",
   "execution_count": 165,
   "id": "50b5d319-c4e6-460a-a904-1fb710b79610",
   "metadata": {},
   "outputs": [
    {
     "name": "stdout",
     "output_type": "stream",
     "text": [
      "Accuracy: 0.737\n",
      "true positive rate: 0.545\n",
      "false positive rate: 0.143\n",
      "true negative rate: 0.857\n",
      "false negative rate: 0.455\n",
      "              precision    recall  f1-score     support\n",
      "0              0.751429  0.856678  0.800609  307.000000\n",
      "1              0.702703  0.544503  0.613569  191.000000\n",
      "accuracy       0.736948  0.736948  0.736948    0.736948\n",
      "macro avg      0.727066  0.700590  0.707089  498.000000\n",
      "weighted avg   0.732741  0.736948  0.728873  498.000000 \n",
      "\n"
     ]
    }
   ],
   "source": [
    "conf = confusion_matrix(y_train,y_pred)\n",
    "print(f'\\\n",
    "Accuracy: {knn.score(x_train, y_train):.3}\\\n",
    "\\ntrue positive rate: {conf[1][1] / conf[1].sum():.3}\\\n",
    "\\nfalse positive rate: {conf[0][1] / conf[0].sum():.3}\\\n",
    "\\ntrue negative rate: {conf[0][0] / conf[0].sum():.3}\\\n",
    "\\nfalse negative rate: {conf[1][0] / conf[1].sum():.3}\\\n",
    "')\n",
    "print(pd.DataFrame(classification_report(y_train,y_pred, output_dict= True)).T,f'\\n')"
   ]
  },
  {
   "cell_type": "markdown",
   "id": "a3c846a6-fe43-42c0-b8de-cb6101921def",
   "metadata": {},
   "source": [
    "- What are the differences in the evaluation metrics? \n",
    "- Which performs better on your in-sample data? \n",
    "- Why?"
   ]
  },
  {
   "cell_type": "markdown",
   "id": "abbc72ce-6365-4898-a3c4-cf254df0aad5",
   "metadata": {},
   "source": [
    "Which model performs best on our out-of-sample data from validate?"
   ]
  },
  {
   "cell_type": "markdown",
   "id": "a945ee45-b90c-4ee1-aab2-2ba65807367f",
   "metadata": {},
   "source": [
    "**Logistic Regression Exercises (Titanic)**\n",
    "\n",
    "Throughout this exercise, be sure you are training, evaluation, and comparing models on the train and validate datasets. The test dataset should only be used for your final model.\n",
    "\n",
    "For all of the models you create, choose a threshold that optimizes for accuracy.\n",
    "\n",
    "Create a model that includes age in addition to fare and pclass. Does this model perform better than your baseline?"
   ]
  },
  {
   "cell_type": "code",
   "execution_count": 190,
   "id": "0c1314d9-dd64-491b-8c3a-8ef774e26b8a",
   "metadata": {},
   "outputs": [
    {
     "data": {
      "text/html": [
       "<div>\n",
       "<style scoped>\n",
       "    .dataframe tbody tr th:only-of-type {\n",
       "        vertical-align: middle;\n",
       "    }\n",
       "\n",
       "    .dataframe tbody tr th {\n",
       "        vertical-align: top;\n",
       "    }\n",
       "\n",
       "    .dataframe thead th {\n",
       "        text-align: right;\n",
       "    }\n",
       "</style>\n",
       "<table border=\"1\" class=\"dataframe\">\n",
       "  <thead>\n",
       "    <tr style=\"text-align: right;\">\n",
       "      <th></th>\n",
       "      <th>pclass</th>\n",
       "      <th>age</th>\n",
       "      <th>sibsp</th>\n",
       "      <th>parch</th>\n",
       "      <th>fare</th>\n",
       "      <th>alone</th>\n",
       "      <th>is_female</th>\n",
       "      <th>embark_town_Queenstown</th>\n",
       "      <th>embark_town_Southampton</th>\n",
       "    </tr>\n",
       "  </thead>\n",
       "  <tbody>\n",
       "    <tr>\n",
       "      <th>583</th>\n",
       "      <td>1</td>\n",
       "      <td>36.000000</td>\n",
       "      <td>0</td>\n",
       "      <td>0</td>\n",
       "      <td>40.1250</td>\n",
       "      <td>1</td>\n",
       "      <td>0</td>\n",
       "      <td>0</td>\n",
       "      <td>0</td>\n",
       "    </tr>\n",
       "    <tr>\n",
       "      <th>165</th>\n",
       "      <td>3</td>\n",
       "      <td>9.000000</td>\n",
       "      <td>0</td>\n",
       "      <td>2</td>\n",
       "      <td>20.5250</td>\n",
       "      <td>0</td>\n",
       "      <td>0</td>\n",
       "      <td>0</td>\n",
       "      <td>1</td>\n",
       "    </tr>\n",
       "    <tr>\n",
       "      <th>50</th>\n",
       "      <td>3</td>\n",
       "      <td>7.000000</td>\n",
       "      <td>4</td>\n",
       "      <td>1</td>\n",
       "      <td>39.6875</td>\n",
       "      <td>0</td>\n",
       "      <td>0</td>\n",
       "      <td>0</td>\n",
       "      <td>1</td>\n",
       "    </tr>\n",
       "    <tr>\n",
       "      <th>259</th>\n",
       "      <td>2</td>\n",
       "      <td>50.000000</td>\n",
       "      <td>0</td>\n",
       "      <td>1</td>\n",
       "      <td>26.0000</td>\n",
       "      <td>0</td>\n",
       "      <td>1</td>\n",
       "      <td>0</td>\n",
       "      <td>1</td>\n",
       "    </tr>\n",
       "    <tr>\n",
       "      <th>306</th>\n",
       "      <td>1</td>\n",
       "      <td>29.699118</td>\n",
       "      <td>0</td>\n",
       "      <td>0</td>\n",
       "      <td>110.8833</td>\n",
       "      <td>1</td>\n",
       "      <td>1</td>\n",
       "      <td>0</td>\n",
       "      <td>0</td>\n",
       "    </tr>\n",
       "  </tbody>\n",
       "</table>\n",
       "</div>"
      ],
      "text/plain": [
       "     pclass        age  sibsp  parch      fare  alone  is_female  \\\n",
       "583       1  36.000000      0      0   40.1250      1          0   \n",
       "165       3   9.000000      0      2   20.5250      0          0   \n",
       "50        3   7.000000      4      1   39.6875      0          0   \n",
       "259       2  50.000000      0      1   26.0000      0          1   \n",
       "306       1  29.699118      0      0  110.8833      1          1   \n",
       "\n",
       "     embark_town_Queenstown  embark_town_Southampton  \n",
       "583                       0                        0  \n",
       "165                       0                        1  \n",
       "50                        0                        1  \n",
       "259                       0                        1  \n",
       "306                       0                        0  "
      ]
     },
     "execution_count": 190,
     "metadata": {},
     "output_type": "execute_result"
    }
   ],
   "source": [
    "titanic = pd.read_csv('titanic.csv')\n",
    "\n",
    "avg_age = titanic.age.mean()\n",
    "titanic.age = titanic.age.fillna(avg_age)\n",
    "\n",
    "titanic[\"is_female\"] = (titanic.sex == \"female\").astype('int')\n",
    "\n",
    "dummy_df = pd.get_dummies(titanic[['embark_town']], dummy_na=False, drop_first=True)\n",
    "titanic = pd.concat([titanic, dummy_df], axis=1)\n",
    "\n",
    "titanic = titanic.drop(columns=[\"passenger_id\", \"deck\", \"class\", \"embarked\", \"sex\", \"embark_town\"])\n",
    "\n",
    "train_validate, test = train_test_split(titanic, \n",
    "                                         test_size=0.2, \n",
    "                                        random_state=123, \n",
    "                                        stratify=titanic.survived)\n",
    "\n",
    "train, validate = train_test_split(train_validate, \n",
    "                                 test_size=0.3, \n",
    "                                   random_state=123, \n",
    "                                   stratify=train_validate.survived)\n",
    "\n",
    "x_train = train.drop(columns=['survived'])\n",
    "y_train = train.survived\n",
    "\n",
    "x_validate = validate.drop(columns=['survived'])\n",
    "y_validate = validate.survived\n",
    "\n",
    "x_test = test.drop(columns=['survived'])\n",
    "y_test = test.survived\n",
    "\n",
    "x_train.head()"
   ]
  },
  {
   "cell_type": "code",
   "execution_count": 191,
   "id": "54b606d2-bfbb-45cc-be88-4463bec73008",
   "metadata": {},
   "outputs": [],
   "source": [
    "logit = LogisticRegression(C=1, random_state=123)\n",
    "\n",
    "features = ['age','fare','pclass']\n",
    "\n",
    "logit.fit(x_train[features],y_train)\n",
    "\n",
    "y_pred = logit.predict(x_train[features])"
   ]
  },
  {
   "cell_type": "code",
   "execution_count": 192,
   "id": "87e130cb-6692-48d6-bc6a-2c5e4561d17b",
   "metadata": {},
   "outputs": [
    {
     "data": {
      "text/plain": [
       "0    307\n",
       "1    191\n",
       "Name: survived, dtype: int64"
      ]
     },
     "execution_count": 192,
     "metadata": {},
     "output_type": "execute_result"
    }
   ],
   "source": [
    "train.survived.value_counts()"
   ]
  },
  {
   "cell_type": "code",
   "execution_count": 193,
   "id": "72ded99c-3d8f-4876-971c-f2a01604df57",
   "metadata": {},
   "outputs": [],
   "source": [
    "baseline = (train.survived == 0).mean()"
   ]
  },
  {
   "cell_type": "code",
   "execution_count": 194,
   "id": "61a12a5c-0bf5-483f-baa1-51e43d101d3e",
   "metadata": {},
   "outputs": [
    {
     "name": "stdout",
     "output_type": "stream",
     "text": [
      "Accuracy\n",
      "--------\n",
      "baseline = 0.6164658634538153\n",
      "model = 0.7028112449799196\n"
     ]
    }
   ],
   "source": [
    "print(f'Accuracy\\n--------\\n\\\n",
    "baseline = {baseline}\\n\\\n",
    "model = {logit.score(x_train[features], y_train)}')"
   ]
  },
  {
   "cell_type": "markdown",
   "id": "97def3f7-b1ef-46ea-b2c4-96f6559466fa",
   "metadata": {},
   "source": [
    "Include sex in your model as well. Note that you'll need to encode or create a dummy variable of this feature before including it in a model."
   ]
  },
  {
   "cell_type": "code",
   "execution_count": 210,
   "id": "e878a6f7-fe72-4793-a2f3-56f1a079f57a",
   "metadata": {},
   "outputs": [
    {
     "name": "stdout",
     "output_type": "stream",
     "text": [
      "Accuracy\n",
      "--------\n",
      "             baseline = 0.6164658634538153\n",
      "             model = 0.8132530120481928\n"
     ]
    }
   ],
   "source": [
    "features = ['age','fare','pclass','is_female']\n",
    "\n",
    "def logReg(x, y, features, c):\n",
    "    \n",
    "    logit = LogisticRegression(C=c, random_state=123)\n",
    "\n",
    "    logit.fit(x[features],y)\n",
    "    y_pred = logit.predict(x[features])\n",
    "\n",
    "    report = print(f'Accuracy\\n--------\\n\\\n",
    "             baseline = {baseline}\\n\\\n",
    "             model = {logit.score(x[features], y)}')\n",
    "\n",
    "    return report\n",
    "\n",
    "logReg(x_train, y_train, features, 1)"
   ]
  },
  {
   "cell_type": "markdown",
   "id": "5580736f-b86f-42e9-b888-66a6a4a7ae40",
   "metadata": {},
   "source": [
    "Try out other combinations of features and models."
   ]
  },
  {
   "cell_type": "code",
   "execution_count": 212,
   "id": "5920b008-f521-47f6-a6ca-73c6a574d634",
   "metadata": {},
   "outputs": [
    {
     "name": "stdout",
     "output_type": "stream",
     "text": [
      "Accuracy\n",
      "--------\n",
      "             baseline = 0.6164658634538153\n",
      "             model = 0.8092369477911646\n"
     ]
    }
   ],
   "source": [
    "features = ['age','fare','pclass','is_female']\n",
    "\n",
    "logReg(x_train, y_train, features, 10)"
   ]
  },
  {
   "cell_type": "code",
   "execution_count": 213,
   "id": "68713974-e089-41b0-8e9a-5fd48a9b9a22",
   "metadata": {},
   "outputs": [
    {
     "name": "stdout",
     "output_type": "stream",
     "text": [
      "Accuracy\n",
      "--------\n",
      "             baseline = 0.6164658634538153\n",
      "             model = 0.8152610441767069\n"
     ]
    }
   ],
   "source": [
    "features = x_train.columns\n",
    "\n",
    "logReg(x_train, y_train, features, 10)\n"
   ]
  },
  {
   "cell_type": "code",
   "execution_count": 214,
   "id": "0b416ca6-83cc-4b4f-9308-212ca22fc6a0",
   "metadata": {},
   "outputs": [
    {
     "name": "stdout",
     "output_type": "stream",
     "text": [
      "Accuracy\n",
      "--------\n",
      "             baseline = 0.6164658634538153\n",
      "             model = 0.8152610441767069\n"
     ]
    }
   ],
   "source": [
    "features = x_train.columns\n",
    "\n",
    "logReg(x_train, y_train, features, 1)\n"
   ]
  },
  {
   "cell_type": "code",
   "execution_count": 215,
   "id": "05e7c106-7c45-4f9e-9ae2-d1eea60c9bc6",
   "metadata": {},
   "outputs": [
    {
     "name": "stdout",
     "output_type": "stream",
     "text": [
      "Accuracy\n",
      "--------\n",
      "             baseline = 0.6164658634538153\n",
      "             model = 0.7831325301204819\n"
     ]
    }
   ],
   "source": [
    "features = ['age','fare','pclass','is_female']\n",
    "\n",
    "logReg(x_train, y_train, features, 0.1)\n"
   ]
  },
  {
   "cell_type": "code",
   "execution_count": 216,
   "id": "d5ce332a-9b87-4c3e-9cef-1bbc52b11dde",
   "metadata": {},
   "outputs": [
    {
     "name": "stdout",
     "output_type": "stream",
     "text": [
      "Accuracy\n",
      "--------\n",
      "             baseline = 0.6164658634538153\n",
      "             model = 0.8253012048192772\n"
     ]
    }
   ],
   "source": [
    "features = x_train.columns\n",
    "\n",
    "logReg(x_train, y_train, features, 0.1)\n"
   ]
  },
  {
   "cell_type": "markdown",
   "id": "6533b984-475e-4f1d-b705-6484360ae1f5",
   "metadata": {},
   "source": [
    "Use you best 3 models to predict and evaluate on your validate sample."
   ]
  },
  {
   "cell_type": "code",
   "execution_count": 217,
   "id": "d6cf8c82-f9cd-46da-ac5a-8f65cbe7deb0",
   "metadata": {},
   "outputs": [
    {
     "name": "stdout",
     "output_type": "stream",
     "text": [
      "Accuracy\n",
      "--------\n",
      "             baseline = 0.6164658634538153\n",
      "             model = 0.7757009345794392\n"
     ]
    }
   ],
   "source": [
    "features = x_validate.columns\n",
    "\n",
    "logReg(x_validate, y_validate, features, 0.1)\n"
   ]
  },
  {
   "cell_type": "code",
   "execution_count": 218,
   "id": "413dd030-ef9d-4a35-9fec-c37da1da685e",
   "metadata": {},
   "outputs": [
    {
     "name": "stdout",
     "output_type": "stream",
     "text": [
      "Accuracy\n",
      "--------\n",
      "             baseline = 0.6164658634538153\n",
      "             model = 0.7990654205607477\n"
     ]
    }
   ],
   "source": [
    "features = x_validate.columns\n",
    "\n",
    "logReg(x_validate, y_validate, features, 1)"
   ]
  },
  {
   "cell_type": "code",
   "execution_count": 219,
   "id": "3ce6efc4-a48a-43aa-8f30-acfbd15a9d18",
   "metadata": {},
   "outputs": [
    {
     "name": "stdout",
     "output_type": "stream",
     "text": [
      "Accuracy\n",
      "--------\n",
      "             baseline = 0.6164658634538153\n",
      "             model = 0.7850467289719626\n"
     ]
    }
   ],
   "source": [
    "features = ['age','fare','pclass','is_female']\n",
    "\n",
    "logReg(x_validate, y_validate, features, 1)\n"
   ]
  },
  {
   "cell_type": "markdown",
   "id": "dbed8383-6012-478f-935d-6c1ec2cd4129",
   "metadata": {},
   "source": [
    "Choose you best model from the validation performation, and evaluate it on the test dataset. How do the performance metrics compare to validate? to train?"
   ]
  },
  {
   "cell_type": "code",
   "execution_count": 222,
   "id": "988639e4-12f0-4c31-a855-5b019d33d6b6",
   "metadata": {},
   "outputs": [
    {
     "name": "stdout",
     "output_type": "stream",
     "text": [
      "Accuracy\n",
      "--------\n",
      "             baseline = 0.6164658634538153\n",
      "             model = 0.8100558659217877\n"
     ]
    }
   ],
   "source": [
    "features = x_test.columns\n",
    "\n",
    "logReg(x_test, y_test, features, 1)"
   ]
  },
  {
   "cell_type": "code",
   "execution_count": null,
   "id": "dbbdc860-48e7-490d-a68f-4b2ff607cc5d",
   "metadata": {},
   "outputs": [],
   "source": []
  },
  {
   "cell_type": "markdown",
   "id": "985742ad-b9a0-49f8-a498-f2895aa80c3c",
   "metadata": {},
   "source": [
    "Bonus1 How do different strategies for handling the missing values in the age column affect model performance?"
   ]
  },
  {
   "cell_type": "markdown",
   "id": "b80f97aa-8f9b-4787-a2ae-677d8ab8b701",
   "metadata": {},
   "source": [
    "Bonus2: How do different strategies for encoding sex affect model performance?"
   ]
  },
  {
   "cell_type": "code",
   "execution_count": null,
   "id": "9f3dde53-6920-421a-b019-ae09ab60d774",
   "metadata": {},
   "outputs": [],
   "source": []
  },
  {
   "cell_type": "markdown",
   "id": "ab44a380-025b-4e10-9a52-b0dcd53aadca",
   "metadata": {},
   "source": [
    "Bonus3: scikit-learn's LogisticRegression classifier is actually applying a regularization penalty to the coefficients by default. This penalty causes the magnitude of the coefficients in the resulting model to be smaller than they otherwise would be. This value can be modified with the C hyper parameter. Small values of C correspond to a larger penalty, and large values of C correspond to a smaller penalty.\n",
    "\n",
    "Try out the following values for C and note how the coefficients and the model's performance on both the dataset it was trained on and on the validate split are affected.\n",
    "\n",
    "- C = 0.01\n",
    "- C = 0.1\n",
    "- C = 1\n",
    "- C = 10\n",
    "- C = 100\n",
    "- C = 1000"
   ]
  },
  {
   "cell_type": "code",
   "execution_count": null,
   "id": "170150a9-1227-47f2-9812-7c09267126a7",
   "metadata": {},
   "outputs": [],
   "source": []
  },
  {
   "cell_type": "markdown",
   "id": "75f84a9f-0917-412a-aab5-728788488f6a",
   "metadata": {},
   "source": [
    "Bonus Bonus: how does scaling the data interact with your choice of C?"
   ]
  },
  {
   "cell_type": "code",
   "execution_count": null,
   "id": "3313e829-d416-4c8c-a45a-96100179a89b",
   "metadata": {},
   "outputs": [],
   "source": []
  }
 ],
 "metadata": {
  "kernelspec": {
   "display_name": "Python 3 (ipykernel)",
   "language": "python",
   "name": "python3"
  },
  "language_info": {
   "codemirror_mode": {
    "name": "ipython",
    "version": 3
   },
   "file_extension": ".py",
   "mimetype": "text/x-python",
   "name": "python",
   "nbconvert_exporter": "python",
   "pygments_lexer": "ipython3",
   "version": "3.9.7"
  }
 },
 "nbformat": 4,
 "nbformat_minor": 5
}
